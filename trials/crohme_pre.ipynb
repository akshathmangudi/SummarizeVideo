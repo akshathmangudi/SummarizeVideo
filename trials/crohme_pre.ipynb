{
  "nbformat": 4,
  "nbformat_minor": 0,
  "metadata": {
    "colab": {
      "provenance": [],
      "gpuType": "T4"
    },
    "kernelspec": {
      "name": "python3",
      "display_name": "Python 3"
    },
    "language_info": {
      "name": "python"
    },
    "accelerator": "GPU"
  },
  "cells": [
    {
      "cell_type": "markdown",
      "source": [
        "This notebook will contain data preprocessing of the CROHME dataset, which is the mathematical expression recognition dataset that we will use."
      ],
      "metadata": {
        "id": "nzhgxFdxPGuF"
      }
    },
    {
      "cell_type": "markdown",
      "source": [
        "The CROHME dataset contains several .inkml files which will be converted to normal jpeg in order for the model to understand the pictures. First, we will convert our .inkml files to .jpeg and visualize few images and our stage 1 will be complete."
      ],
      "metadata": {
        "id": "KWbpS27kPfbw"
      }
    },
    {
      "cell_type": "code",
      "source": [
        "# Importing the necessary modules\n",
        "\n",
        "import os\n",
        "import requests\n",
        "import shutil\n",
        "import glob\n",
        "import zipfile\n",
        "from pathlib import Path\n",
        "from datetime import datetime\n",
        "\n",
        "import torch\n",
        "import torch.nn as nn\n",
        "import cv2\n",
        "import numpy\n",
        "import pandas\n",
        "import matplotlib.pyplot as plt\n",
        "import xml.etree.ElementTree as ET\n",
        "\n",
        "from skimage.draw import line\n",
        "from skimage.morphology import thin\n",
        "from PIL import Image\n",
        "from io import StringIO\n",
        "\n",
        "numpy.random.seed(0)"
      ],
      "metadata": {
        "id": "RriiYmzuQhJ0"
      },
      "execution_count": 22,
      "outputs": []
    },
    {
      "cell_type": "code",
      "source": [
        "# We will first download our library\n",
        "\n",
        "data_path = Path.cwd()\n",
        "image_path = data_path / \"dataset\"\n",
        "\n",
        "if image_path.is_dir():\n",
        "  print(f\"{image_path} directory exists.\")\n",
        "else:\n",
        "  print(f\"{image_path} does not exist. Creating one...\")\n",
        "  image_path.mkdir(parents=True, exist_ok=True)\n",
        "\n",
        "  with open(data_path / \"CROHME.zip\", \"wb\") as f:\n",
        "    request = requests.get(\"http://www.iapr-tc11.org/dataset/CROHME/CROHME_full_v2.zip\")\n",
        "    f.write(request.content)"
      ],
      "metadata": {
        "colab": {
          "base_uri": "https://localhost:8080/"
        },
        "id": "Sif_lSVqWeNx",
        "outputId": "28a64a75-b5b6-4f7f-f74b-c3239838f3c2"
      },
      "execution_count": 17,
      "outputs": [
        {
          "output_type": "stream",
          "name": "stdout",
          "text": [
            "/content/dataset directory exists.\n"
          ]
        }
      ]
    },
    {
      "cell_type": "code",
      "source": [
        "# We will now extract our zip file.\n",
        "\n",
        "with zipfile.ZipFile(\"/content/CROHME.zip\", \"r\") as zip_ref:\n",
        "    print(\"Unzipping...\")\n",
        "    zip_ref.extractall(image_path)"
      ],
      "metadata": {
        "colab": {
          "base_uri": "https://localhost:8080/"
        },
        "id": "XxvuxgiRXiLd",
        "outputId": "1e42ae02-f14e-4684-b74c-a4da1242fb76"
      },
      "execution_count": 18,
      "outputs": [
        {
          "output_type": "stream",
          "name": "stdout",
          "text": [
            "Unzipping...\n"
          ]
        }
      ]
    },
    {
      "cell_type": "code",
      "source": [
        "# The following inkml conversion and extraction has been extracted from vndee\n",
        "# github repo: https://github.com/vndee/offline-crohme/tree/master\n",
        "# Cells 3-9 have been extracted from the repo\n",
        "\n",
        "def get_label(inkml_file_abs_path):\n",
        "\tlebel = \"\"\n",
        "\ttree = ET.parse(inkml_file_abs_path)\n",
        "\troot = tree.getroot()\n",
        "\tdoc_namespace = \"{http://www.w3.org/2003/InkML}\"\n",
        "\n",
        "\tfor child in root:\n",
        "\t\tif (child.tag == doc_namespace + 'annotation') and (child.attrib == {'type': 'truth'}):\n",
        "\t\t\treturn child.text"
      ],
      "metadata": {
        "id": "ffVpnzM2V-Tk"
      },
      "execution_count": 26,
      "outputs": []
    },
    {
      "cell_type": "code",
      "source": [
        "def get_traces_data(inkml_file_abs_path):\n",
        "  traces_data = []\n",
        "  tree = ET.parse(inkml_file_abs_path)\n",
        "  root = tree.getroot()\n",
        "  doc_namespace = \"{http://www.w3.org/2003/InkML}\"\n",
        "\n",
        "  traces_all = [{'id': trace_tag.get('id'),\n",
        "                 'coords': [[round(float(axis_coord)) if float(axis_coord).is_integer() else round(float(axis_coord) * 10000) \\\n",
        "                             for axis_coord in coord[1:].split(' ')] if coord.startswith(' ') \\\n",
        "    \t\t\t\t\t\t\t\telse [round(float(axis_coord)) if float(axis_coord).is_integer() else round(float(axis_coord) * 10000) \\\n",
        "    \t\t\t\t\t\t\t\t\tfor axis_coord in coord.split(' ')] \\\n",
        "    \t\t\t\t\t\t\tfor coord in (trace_tag.text).replace('\\n', '').split(',')]} \\\n",
        "    \t\t\t\t\t\t\tfor trace_tag in root.findall(doc_namespace + 'trace')]\n",
        "  traces_all.sort(key=lambda trace_dict: int(trace_dict['id']))\n",
        "  traceGroupWrapper = root.find(doc_namespace + 'traceGroup')\n",
        "\n",
        "  if traceGroupWrapper is not None:\n",
        "    for traceGroup in traceGroupWrapper.findall(doc_namespace + 'traceGroup'):\n",
        "        label = traceGroup.find(doc_namespace + 'annotation').text\n",
        "        traces_curr = []\n",
        "        for traceView in traceGroup.findall(doc_namespace + 'traceView'):\n",
        "         traceDataRef = int(traceView.get('traceDataRef'))\n",
        "         single_trace = traces_all[traceDataRef]['coords']\n",
        "         traces_curr.append(single_trace)\n",
        "         traces_data.append({'label': label, 'trace_group': traces_curr})\n",
        "  else:\n",
        "     [traces_data.append({'trace_group': [trace['coords']]}) for trace in traces_all]\n",
        "\n",
        "  return traces_data"
      ],
      "metadata": {
        "id": "w_QE6UliYAM6"
      },
      "execution_count": 20,
      "outputs": []
    },
    {
      "cell_type": "code",
      "source": [
        "def inkml2img(input_path, output_path):\n",
        "\tfout = open(output_path.split('.')[0] + '.txt', 'w+')\n",
        "\tfout.write(get_label(input_path))\n",
        "\tfout.close()\n",
        "\n",
        "\ttraces = get_traces_data(input_path)\n",
        "\tplt.gca().invert_yaxis()\n",
        "\tplt.gca().set_aspect('equal', adjustable='box')\n",
        "\tplt.axes().get_xaxis().set_visible(False)\n",
        "\tplt.axes().get_yaxis().set_visible(False)\n",
        "\tplt.axes().spines['top'].set_visible(False)\n",
        "\tplt.axes().spines['right'].set_visible(False)\n",
        "\tplt.axes().spines['bottom'].set_visible(False)\n",
        "\tplt.axes().spines['left'].set_visible(False)\n",
        "\tfor elem in traces:\n",
        "\t\tls = elem['trace_group']\n",
        "\t\tfor subls in ls:\n",
        "\t\t\tdata = numpy.array(subls)\n",
        "\t\t\tx,y=zip(*data)\n",
        "\t\t\tplt.plot(x,y,linewidth=2,c='black')\n",
        "\tplt.savefig(output_path, bbox_inches='tight', dpi=100)\n",
        "\tplt.gcf().clear()\n",
        ""
      ],
      "metadata": {
        "id": "8BYep3jJX8rG"
      },
      "execution_count": 21,
      "outputs": []
    },
    {
      "cell_type": "code",
      "source": [
        "def writeLog(message):\n",
        "    logger.write(\"[\" + datetime.now().strftime('%Y-%m-%d %H:%M:%S') + \"] \" + str(message) + \"\\n\")\n",
        "\n",
        "def createDirectory(dirPath):\n",
        "    if not os.path.exists(dirPath):\n",
        "        os.mkdir(dirPath)\n",
        "        writeLog(\"Create \" + dirPath)"
      ],
      "metadata": {
        "id": "tTWDhb-wacgf"
      },
      "execution_count": 23,
      "outputs": []
    },
    {
      "cell_type": "code",
      "source": [
        "dataPath = '/content/dataset'\n",
        "dataMergedPath = 'data_merged/'\n",
        "targetFolder = 'data_processed/'\n",
        "logger = open('log.txt', 'w+')"
      ],
      "metadata": {
        "id": "pqM_H0bka4rB"
      },
      "execution_count": 24,
      "outputs": []
    },
    {
      "cell_type": "code",
      "source": [
        "if __name__ == \"__main__\":\n",
        "    writeLog(\"Start processing.\")\n",
        "    filesPath = glob.glob(dataPath + '*/*.inkml')\n",
        "    writeLog(\"There are \" + str(len(filesPath)) + \" files in \" + dataPath)\n",
        "    createDirectory(dataMergedPath)\n",
        "\n",
        "    cnt = 0\n",
        "    for fileName in filesPath:\n",
        "        cnt = cnt + 1\n",
        "        print(\"Copying %d/%d\" % (cnt, len(filesPath)))\n",
        "        writeLog(\"Copied \" + fileName + \" --> \" + dataMergedPath + fileName)\n",
        "        shutil.copy2(fileName, dataMergedPath)\n",
        "\n",
        "    createDirectory(targetFolder)\n",
        "\n",
        "    listFiles = glob.glob(dataMergedPath + '*.inkml')\n",
        "    numberOfFile = len(listFiles)\n",
        "    writeLog(\"There are \" + str(numberOfFile) + \" files in \" + dataMergedPath)\n",
        "    cnt = 0\n",
        "\n",
        "    for fileInkml in listFiles:\n",
        "        cnt = cnt + 1\n",
        "        fileName = fileInkml.split('/')[1]\n",
        "        print(\"Processing %s [%d/%d]\" % (fileName, cnt, numberOfFile))\n",
        "        writeLog(\"[\" + str(cnt) + \"/\" + str(numberOfFile) + \"]\" + \"Processed \" + fileInkml + \" --> \" + targetFolder + fileName + \".png\")\n",
        "        try:\n",
        "            inkml2img.inkml2img(fileInkml, targetFolder + fileName + '.png')\n",
        "        except:\n",
        "            writeLog(\"Failed!\")\n",
        "            print(\"An error occured!\")\n",
        "\n",
        "        writeLog(\"Successful!\")"
      ],
      "metadata": {
        "id": "R9ywnLBIbDPh"
      },
      "execution_count": 25,
      "outputs": []
    }
  ]
}