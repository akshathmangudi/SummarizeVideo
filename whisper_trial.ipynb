{
  "nbformat": 4,
  "nbformat_minor": 0,
  "metadata": {
    "colab": {
      "provenance": [],
      "gpuType": "T4",
      "authorship_tag": "ABX9TyNtxVJMBDLWZiuDmRHT/kij",
      "include_colab_link": true
    },
    "kernelspec": {
      "name": "python3",
      "display_name": "Python 3"
    },
    "language_info": {
      "name": "python"
    },
    "accelerator": "GPU"
  },
  "cells": [
    {
      "cell_type": "markdown",
      "metadata": {
        "id": "view-in-github",
        "colab_type": "text"
      },
      "source": [
        "<a href=\"https://colab.research.google.com/github/akshathmangudi/SummarizeVideo/blob/main/whisper_trial.ipynb\" target=\"_parent\"><img src=\"https://colab.research.google.com/assets/colab-badge.svg\" alt=\"Open In Colab\"/></a>"
      ]
    },
    {
      "cell_type": "code",
      "source": [
        "%pwd"
      ],
      "metadata": {
        "colab": {
          "base_uri": "https://localhost:8080/",
          "height": 35
        },
        "id": "Bt5dAkKfJw5l",
        "outputId": "3e446edf-1b8e-4b43-f7ee-c673e2a16983"
      },
      "execution_count": 17,
      "outputs": [
        {
          "output_type": "execute_result",
          "data": {
            "text/plain": [
              "'/content'"
            ],
            "application/vnd.google.colaboratory.intrinsic+json": {
              "type": "string"
            }
          },
          "metadata": {},
          "execution_count": 17
        }
      ]
    },
    {
      "cell_type": "code",
      "source": [
        "import os\n",
        "from pathlib import Path\n",
        "from pytube import YouTube\n",
        "from tqdm import tqdm"
      ],
      "metadata": {
        "id": "EuSlHJ3jI3o8"
      },
      "execution_count": 15,
      "outputs": []
    },
    {
      "cell_type": "code",
      "source": [
        "def link_to_audio(yt_link):\n",
        "    \"\"\"\n",
        "    The following function converts a given YouTube link and converts it .mp3 (audio) file.\n",
        "\n",
        "    Arguments:\n",
        "    yt_link: The YouTube link\n",
        "\n",
        "    Returns: a .mp3 file inside the /audio directory.\n",
        "    \"\"\"\n",
        "\n",
        "    # The root path and output path being defined here.\n",
        "    root_path = Path.cwd()\n",
        "    output_path = root_path / \"audio\"\n",
        "\n",
        "    # Calling the constructor for the link and only extracting the audio.\n",
        "    youtube = YouTube(yt_link)\n",
        "    video = youtube.streams.filter(only_audio=True).first()\n",
        "\n",
        "    # If the output path does not exist, create one.\n",
        "    if output_path.is_dir():\n",
        "        print(f\"{output_path} already exists.\")\n",
        "    else:\n",
        "        print(f\"{output_path} not found, creating one...\")\n",
        "        output_path.mkdir(parents=True, exist_ok=True)\n",
        "\n",
        "    # Download the file and save it into the 'audio' directory\n",
        "    out_file = video.download(output_path=output_path)\n",
        "    base, ext = os.path.splitext(out_file)\n",
        "\n",
        "    # Rename the file and save it as .mp3\n",
        "    result_file = base + '.mp3'\n",
        "    os.rename(out_file, result_file)"
      ],
      "metadata": {
        "id": "vJQNX0QKJKdw"
      },
      "execution_count": 13,
      "outputs": []
    },
    {
      "cell_type": "code",
      "source": [
        "def find_audio_files(root_path: Path) -> list:\n",
        "    audio_path = root_path / \"audio\"\n",
        "\n",
        "    mp3_files = []\n",
        "\n",
        "    for file in audio_path.glob('*.mp3'):\n",
        "        mp3_files.append(file)\n",
        "\n",
        "    return mp3_files\n",
        "\n",
        "\n",
        "def audio_to_text(mp3_list: list, root_dir: Path, audio_dir: Path, output_dir: Path):\n",
        "    print(\"Loading whisper...\")\n",
        "    model = whisper.load_model(\"base\")\n",
        "    print(\"Loading complete\")\n",
        "\n",
        "    if output_dir.is_dir():\n",
        "      print(f\"{output_dir} already exists.\")\n",
        "    else:\n",
        "      print(f\"{output_dir} does not exist, creating one...\")\n",
        "      output_dir.mkdir(parents=True, exist_ok=True)\n",
        "\n",
        "    dir_length = len(mp3_list)\n",
        "    print(f\"Number of audio files: {dir_length}\")\n",
        "\n",
        "    with tqdm(total=dir_length, desc=\"Transcribing files\") as pbar:\n",
        "        for file_path in audio_dir.rglob(\"*.mp3\"):\n",
        "            audio_data = whisper.load_audio(str(file_path))\n",
        "            result_text = model.transcribe(audio_data, fp16=False, verbose=True)[\"text\"]\n",
        "\n",
        "            text_name = file_path.stem\n",
        "            text_file_path = output_dir / f\"{text_name}.txt\"\n",
        "            with text_file_path.open(\"w\") as file:\n",
        "                file.write(result_text)\n",
        "            pbar.update(1)\n",
        "    print(\"Transcription complete\")"
      ],
      "metadata": {
        "id": "XzR7TwPnJiHk"
      },
      "execution_count": 18,
      "outputs": []
    },
    {
      "cell_type": "code",
      "source": [
        "root_path = Path.cwd()\n",
        "output_path = root_path / \"text\"\n",
        "audio_path = root_path / \"audio\"\n",
        "\n",
        "if __name__ == \"__main__\":\n",
        "  link_to_audio(\"https://www.youtube.com/watch?v=aQk-gCqq30k&t=1s\")\n",
        "  audio_to_text(find_audio_files(root_path), root_dir=root_path, audio_dir=audio_path, output_dir = output_path)"
      ],
      "metadata": {
        "colab": {
          "base_uri": "https://localhost:8080/"
        },
        "id": "lYjNnLTLJnNw",
        "outputId": "6a4e7002-e08e-40d3-aaf0-9786e0173a5d"
      },
      "execution_count": 20,
      "outputs": [
        {
          "output_type": "stream",
          "name": "stdout",
          "text": [
            "/content/audio already exists.\n",
            "Loading whisper...\n",
            "Loading complete\n",
            "/content/text does not exist, creating one...\n",
            "Number of audio files: 1\n"
          ]
        },
        {
          "output_type": "stream",
          "name": "stderr",
          "text": [
            "\rTranscribing files:   0%|          | 0/1 [00:00<?, ?it/s]"
          ]
        },
        {
          "output_type": "stream",
          "name": "stdout",
          "text": [
            "Detecting language using up to the first 30 seconds. Use `--language` to specify the language\n",
            "Detected language: English\n",
            "[00:00.000 --> 00:03.200]  Morning, son.\n",
            "[00:03.200 --> 00:07.840]  Are you ready to start with your first job?\n",
            "[00:07.840 --> 00:09.840]  Nervous?\n",
            "[00:09.840 --> 00:14.960]  Yes, that I feel so nervous.\n",
            "[00:14.960 --> 00:21.000]  What will happen if I fail at this job?\n",
            "[00:21.000 --> 00:24.120]  It's understandable that you feel nervous.\n",
            "[00:24.120 --> 00:30.480]  I remember I failed like that in my first job too.\n",
            "[00:30.480 --> 00:31.480]  Really?\n",
            "[00:31.480 --> 00:33.240]  And what did you do?\n",
            "[00:33.240 --> 00:34.960]  Did you fail?\n",
            "[00:34.960 --> 00:37.960]  Did you succeed?\n",
            "[00:37.960 --> 00:42.480]  Well, I was nervous.\n",
            "[00:42.480 --> 00:46.080]  But then I learned a lot of things.\n",
            "[00:46.080 --> 00:49.760]  I can help you with that.\n",
            "[00:49.760 --> 00:54.800]  I can give you some tips to succeed in your first job.\n",
            "[00:54.800 --> 00:58.320]  I have learned a lot of things.\n",
            "[00:58.320 --> 01:00.640]  Yes, please.\n",
            "[01:00.640 --> 01:02.600]  I don't want to fail.\n",
            "[01:02.600 --> 01:06.080]  I really want to succeed at this.\n",
            "[01:06.080 --> 01:09.040]  Please.\n",
            "[01:09.040 --> 01:18.720]  The first thing I can tell you is deliver reliably and go beyond what's asked.\n",
            "[01:18.720 --> 01:27.840]  Avoid deliverables on time and provide more than what's expected when I appropriate.\n",
            "[01:27.840 --> 01:37.280]  More than what's expected, you're telling me to work extra time?\n",
            "[01:37.280 --> 01:39.560]  But that's not correct.\n",
            "[01:39.560 --> 01:43.280]  We can't let our bosses abuse us.\n",
            "[01:43.280 --> 01:46.760]  I won't let it happen.\n",
            "[01:46.760 --> 01:50.920]  I will respect my working hours, my shift.\n",
            "[01:50.920 --> 01:51.920]  That's all.\n",
            "[01:51.920 --> 01:56.600]  I'm not working extra hours.\n",
            "[01:56.600 --> 02:00.520]  I think you don't understand the idea.\n",
            "[02:00.520 --> 02:04.800]  But I will explain it to you.\n",
            "[02:04.800 --> 02:06.320]  Okay?\n",
            "[02:06.320 --> 02:16.720]  Taking an extra step demonstrate creativity, leadership, and most importantly, an understanding\n",
            "[02:16.720 --> 02:25.440]  of the ultimate objective every organization has to take hold of it.\n",
            "[02:25.440 --> 02:28.320]  They need to satisfy them.\n",
            "[02:28.320 --> 02:35.120]  It's critical that you understand who they are and how success is measured.\n",
            "[02:35.120 --> 02:41.640]  If you aren't clear on goals or expectations, ask questions to clarify.\n",
            "[02:41.640 --> 02:45.640]  It is important.\n",
            "[02:45.640 --> 02:55.200]  People, especially young people now, don't understand this concept nowadays.\n",
            "[02:55.200 --> 03:01.080]  But if you want to get something extra, you need to show that you are capable of giving\n",
            "[03:01.080 --> 03:05.040]  the extra.\n",
            "[03:05.040 --> 03:14.240]  Imagine that in the future, a back-and-seek opens up to be the new boss with many responsibilities.\n",
            "[03:14.240 --> 03:23.920]  They will think about people who have shown that are able to handle this work.\n",
            "[03:23.920 --> 03:29.960]  Of course, I'm not telling you to work extra hours every day.\n",
            "[03:29.960 --> 03:31.480]  Just a little more.\n",
            "[03:31.480 --> 03:34.080]  That's all.\n",
            "[03:34.080 --> 03:35.800]  And not forever.\n",
            "[03:35.800 --> 03:38.160]  Set a waiting time limit.\n",
            "[03:38.160 --> 03:43.360]  And if it doesn't happen, look for another job.\n",
            "[03:43.360 --> 03:45.240]  I think I get it.\n",
            "[03:45.240 --> 03:52.200]  I will show more responsibility and commit to work.\n",
            "[03:52.200 --> 03:55.320]  All right.\n",
            "[03:55.320 --> 03:59.240]  Don't undersell your accomplishments.\n",
            "[03:59.240 --> 04:02.840]  Also important.\n",
            "[04:02.840 --> 04:07.720]  Don't assume people seeing no everything you're working on.\n",
            "[04:07.720 --> 04:12.280]  It's your responsibility to ensure they do.\n",
            "[04:12.280 --> 04:18.680]  To avoid underselling yourself, document your work as if you are bragging about a friend\n",
            "[04:18.680 --> 04:22.160]  or someone you admire.\n",
            "[04:22.160 --> 04:29.000]  Track your progression in real time so you'll be able to showcase your skills when applying\n",
            "[04:29.000 --> 04:35.600]  for MBA programs or new positions.\n",
            "[04:35.600 --> 04:41.240]  Keep your LinkedIn profile up to date.\n",
            "[04:41.240 --> 04:51.200]  So those you meet during your career and MBA journey can stay connected with you.\n",
            "[04:51.200 --> 04:52.880]  Why is it important?\n",
            "[04:52.880 --> 04:55.640]  I will tell you my experience.\n",
            "[04:55.640 --> 05:00.880]  It happened to me years ago.\n",
            "[05:00.880 --> 05:10.440]  I was happy working in a good company, but one day suddenly I got fired with no reason.\n",
            "[05:10.440 --> 05:13.440]  Then I had to look for another job.\n",
            "[05:13.440 --> 05:20.320]  But I had all my progress outdated.\n",
            "[05:20.320 --> 05:23.440]  My resume was also outdated.\n",
            "[05:23.440 --> 05:30.080]  I could not give evidence of the achievements I obtained.\n",
            "[05:30.080 --> 05:36.360]  That's why I tell you that it is important that you stay up to date with your achievements.\n",
            "[05:36.360 --> 05:40.200]  And on your networks.\n",
            "[05:40.200 --> 05:43.480]  You're assumed that your job is secure.\n",
            "[05:43.480 --> 05:49.960]  Always have a good network of contacts.\n",
            "[05:49.960 --> 05:53.960]  It's something really, really important.\n",
            "[05:53.960 --> 05:58.240]  Please never forget it.\n",
            "[05:58.240 --> 06:02.080]  Well, that makes sense.\n",
            "[06:02.080 --> 06:05.840]  Don't worry that I won't forget it.\n",
            "[06:05.840 --> 06:08.680]  What else?\n",
            "[06:08.680 --> 06:11.040]  Give credit to supporters.\n",
            "[06:11.040 --> 06:13.440]  Give credit to those who help you.\n",
            "[06:13.440 --> 06:18.240]  Both colleagues and mentors.\n",
            "[06:18.240 --> 06:24.840]  You'll meet people who will be honored to help you grow and succeed.\n",
            "[06:24.840 --> 06:28.240]  Seriously.\n",
            "[06:28.240 --> 06:37.760]  I'm sure these relationships show your genuine appreciation.\n",
            "[06:37.760 --> 06:44.320]  These are the people who will sign your praises when you're not in the room and serve us references\n",
            "[06:44.320 --> 06:47.520]  in the future.\n",
            "[06:47.520 --> 06:53.720]  Being a team player builds your credibility and makes others more willing to include you\n",
            "[06:53.720 --> 06:57.280]  in a new opportunity.\n",
            "[06:57.280 --> 07:00.360]  Also keep learning always.\n",
            "[07:00.360 --> 07:02.080]  Be curious.\n",
            "[07:02.080 --> 07:06.840]  Sign up for training programs.\n",
            "[07:06.840 --> 07:16.560]  Learn new ways of working and share what you've learned with your team.\n",
            "[07:16.560 --> 07:23.360]  If what you learned can help a coworker, they might become an advocate who helps propel\n",
            "[07:23.360 --> 07:26.120]  your career.\n",
            "[07:26.120 --> 07:35.000]  Your constant desire to learn more will set you up as a strong candidate for a race someday.\n",
            "[07:35.000 --> 07:38.160]  Yeah, alright.\n",
            "[07:38.160 --> 07:40.800]  I like to learn new things.\n",
            "[07:40.800 --> 07:45.880]  So that won't be difficult to do.\n",
            "[07:45.880 --> 07:49.200]  Be that go-to person for something.\n",
            "[07:49.200 --> 07:55.440]  Build your brand through service to others.\n",
            "[07:55.440 --> 08:05.240]  Think about how you add value to the organization and what you'd like to do more of.\n",
            "[08:05.240 --> 08:14.720]  Become the go-to person for something that one people can brainstorm with.\n",
            "[08:14.720 --> 08:20.920]  The person who's great at that visualization, the organizer, the one who's good with\n",
            "[08:20.920 --> 08:24.680]  graphics.\n",
            "[08:24.680 --> 08:26.720]  Identify your something.\n",
            "[08:26.720 --> 08:29.480]  Share your talents and passions.\n",
            "[08:29.480 --> 08:38.080]  Your colleagues, professors, classmates and others should know your skills and interests\n",
            "[08:38.080 --> 08:43.680]  today think of you when opportunities arise.\n",
            "[08:43.680 --> 08:46.680]  And don't forget to return the favor.\n",
            "[08:46.680 --> 08:53.400]  Help them network with your contents.\n",
            "[08:53.400 --> 08:57.680]  Be someone who people want to see succeed.\n",
            "[08:57.680 --> 09:01.720]  I hope you understand these things.\n",
            "[09:01.720 --> 09:07.640]  Yeah, I get it that, but still I am nervous.\n",
            "[09:07.640 --> 09:09.400]  What can I do?\n",
            "[09:09.400 --> 09:11.520]  Please help me.\n",
            "[09:12.520 --> 09:16.600]  Well, sometimes that feeling is just inevitable.\n",
            "[09:16.600 --> 09:20.960]  I think you will just have to deal with it, son.\n",
            "[09:20.960 --> 09:25.280]  No, please, I can't.\n",
            "[09:25.280 --> 09:32.560]  How can I stop feeling this nervous?\n",
            "[09:32.560 --> 09:39.360]  Maybe I can give you some tips to combat nervousness.\n",
            "[09:40.360 --> 09:45.720]  Yes, yes, that will help me a lot.\n",
            "[09:45.720 --> 09:47.720]  I need it, please.\n",
            "[09:47.720 --> 09:49.720]  Tell me.\n",
            "[09:49.720 --> 09:54.240]  Yeah, but what about you guys?\n",
            "[09:54.240 --> 09:59.560]  Do you want a video with tips to combat nervousness?\n",
            "[09:59.560 --> 10:02.480]  I hope you liked this conversation.\n",
            "[10:02.480 --> 10:06.880]  If you could improve your English a little more, please subscribe to the channel and share\n",
            "[10:06.880 --> 10:08.720]  this video with a friend.\n"
          ]
        },
        {
          "output_type": "stream",
          "name": "stderr",
          "text": [
            "Transcribing files: 100%|██████████| 1/1 [00:15<00:00, 15.24s/it]"
          ]
        },
        {
          "output_type": "stream",
          "name": "stdout",
          "text": [
            "[10:08.720 --> 10:12.960]  And if you want to support this channel, you can join us.\n",
            "[10:12.960 --> 10:16.080]  Or click on the super thanks button.\n",
            "[10:16.080 --> 10:18.800]  Thank you very much for your support.\n",
            "[10:18.800 --> 10:19.320]  Take care.\n",
            "Transcription complete\n"
          ]
        },
        {
          "output_type": "stream",
          "name": "stderr",
          "text": [
            "\n"
          ]
        }
      ]
    }
  ]
}